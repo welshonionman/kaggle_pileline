{
 "cells": [
  {
   "cell_type": "code",
   "execution_count": 3,
   "metadata": {},
   "outputs": [],
   "source": [
    "from src.kaggle_api import (\n",
    "    init,\n",
    "    download_comp_datasets,\n",
    "    download_datasets,\n",
    "    create_datasets,\n",
    "    pull_kernel,\n",
    "    push_kernel,\n",
    "    pull_model,\n",
    "    submission,\n",
    ")\n",
    "\n",
    "init()"
   ]
  },
  {
   "cell_type": "code",
   "execution_count": 2,
   "metadata": {},
   "outputs": [
    {
     "name": "stdout",
     "output_type": "stream",
     "text": [
      "ref                                                                                     deadline             category             reward  teamCount  userHasEntered  \n",
      "--------------------------------------------------------------------------------------  -------------------  ---------------  ----------  ---------  --------------  \n",
      "https://www.kaggle.com/competitions/arc-prize-2024                                      2024-11-10 23:59:00  Featured         $1,100,000        512           False  \n",
      "https://www.kaggle.com/competitions/lmsys-chatbot-arena                                 2024-08-05 23:59:00  Research           $100,000       1520           False  \n",
      "https://www.kaggle.com/competitions/isic-2024-challenge                                 2024-09-06 23:59:00  Research            $80,000        938            True  \n",
      "https://www.kaggle.com/competitions/rsna-2024-lumbar-spine-degenerative-classification  2024-10-08 23:59:00  Featured            $50,000        736            True  \n",
      "https://www.kaggle.com/competitions/llm-20-questions                                    2024-08-13 23:59:00  Featured            $50,000        530           False  \n",
      "https://www.kaggle.com/competitions/uspto-explainable-ai                                2024-07-24 23:59:00  Featured            $50,000        507           False  \n",
      "https://www.kaggle.com/competitions/playground-series-s4e7                              2024-07-31 23:59:00  Playground             Swag       1289           False  \n",
      "https://www.kaggle.com/competitions/titanic                                             2030-01-01 00:00:00  Getting Started   Knowledge      17644            True  \n",
      "https://www.kaggle.com/competitions/house-prices-advanced-regression-techniques         2030-01-01 00:00:00  Getting Started   Knowledge       4842           False  \n",
      "https://www.kaggle.com/competitions/spaceship-titanic                                   2030-01-01 00:00:00  Getting Started   Knowledge       1969           False  \n",
      "https://www.kaggle.com/competitions/digit-recognizer                                    2030-01-01 00:00:00  Getting Started   Knowledge       1917           False  \n",
      "https://www.kaggle.com/competitions/nlp-getting-started                                 2030-01-01 00:00:00  Getting Started   Knowledge        864           False  \n",
      "https://www.kaggle.com/competitions/store-sales-time-series-forecasting                 2030-06-30 23:59:00  Getting Started   Knowledge        742           False  \n",
      "https://www.kaggle.com/competitions/connectx                                            2030-01-01 00:00:00  Getting Started   Knowledge        185           False  \n",
      "https://www.kaggle.com/competitions/gan-getting-started                                 2030-07-01 23:59:00  Getting Started   Knowledge         95           False  \n",
      "https://www.kaggle.com/competitions/tpu-getting-started                                 2030-06-03 23:59:00  Getting Started   Knowledge         50           False  \n",
      "https://www.kaggle.com/competitions/contradictory-my-dear-watson                        2030-07-01 23:59:00  Getting Started   Knowledge         33            True  \n"
     ]
    }
   ],
   "source": [
    "!kaggle competitions list"
   ]
  },
  {
   "cell_type": "code",
   "execution_count": 4,
   "metadata": {},
   "outputs": [
    {
     "name": "stdout",
     "output_type": "stream",
     "text": [
      "Downloading image-matching-challenge-2024.zip to /kaggle/input/image-matching-challenge-2024\n"
     ]
    },
    {
     "name": "stderr",
     "output_type": "stream",
     "text": [
      "100%|██████████| 3.47G/3.47G [02:07<00:00, 29.3MB/s]\n"
     ]
    },
    {
     "name": "stdout",
     "output_type": "stream",
     "text": [
      "\n"
     ]
    }
   ],
   "source": [
    "download_comp_datasets(\"image-matching-challenge-2024\")"
   ]
  },
  {
   "cell_type": "code",
   "execution_count": 2,
   "metadata": {},
   "outputs": [],
   "source": [
    "download_datasets(\n",
    "    \"abiolatti/leap-train-tfrecords\",\n",
    ")"
   ]
  },
  {
   "cell_type": "code",
   "execution_count": 1,
   "metadata": {},
   "outputs": [
    {
     "ename": "NameError",
     "evalue": "name 'pull_kernel' is not defined",
     "output_type": "error",
     "traceback": [
      "\u001b[0;31m---------------------------------------------------------------------------\u001b[0m",
      "\u001b[0;31mNameError\u001b[0m                                 Traceback (most recent call last)",
      "Cell \u001b[0;32mIn[1], line 1\u001b[0m\n\u001b[0;32m----> 1\u001b[0m \u001b[43mpull_kernel\u001b[49m(\n\u001b[1;32m      2\u001b[0m     \u001b[38;5;124m\"\u001b[39m\u001b[38;5;124mmotono0223/isic-tabular-model-image-model-features\u001b[39m\u001b[38;5;124m\"\u001b[39m,\n\u001b[1;32m      3\u001b[0m )\n",
      "\u001b[0;31mNameError\u001b[0m: name 'pull_kernel' is not defined"
     ]
    }
   ],
   "source": [
    "pull_kernel(\n",
    "    \"motono0223/isic-tabular-model-image-model-features\",\n",
    ")"
   ]
  },
  {
   "cell_type": "code",
   "execution_count": 5,
   "metadata": {},
   "outputs": [
    {
     "name": "stdout",
     "output_type": "stream",
     "text": [
      "tmp-weight\n"
     ]
    }
   ],
   "source": [
    "create_datasets(\n",
    "    \"welshonionman\",\n",
    "    \"/kaggle/weights/tmp_weight\",\n",
    ")"
   ]
  },
  {
   "cell_type": "code",
   "execution_count": 11,
   "metadata": {},
   "outputs": [
    {
     "name": "stdout",
     "output_type": "stream",
     "text": [
      "metaresearch/dinov2/pytorch/base/1\n",
      "/kaggle/input/metaresearch/dinov2/pytorch/base/1\n",
      "kaggle models instances versions download metaresearch/dinov2/pytorch/base/1 --untar -p /kaggle/input/metaresearch/dinov2/pytorch/base/1\n",
      "Downloading dinov2.tar.gz to /kaggle/input/metaresearch/dinov2/pytorch/base/1\n"
     ]
    },
    {
     "name": "stderr",
     "output_type": "stream",
     "text": [
      "100%|██████████| 307M/307M [00:14<00:00, 22.3MB/s] \n"
     ]
    },
    {
     "name": "stdout",
     "output_type": "stream",
     "text": [
      "\n",
      "/kaggle/input/metaresearch/dinov2/pytorch/base/1/dinov2.tar.gz"
     ]
    }
   ],
   "source": [
    "pull_model(\n",
    "    \"https://www.kaggle.com/models/metaresearch/dinov2/frameworks/PyTorch/variations/base/versions/1\",\n",
    ")"
   ]
  },
  {
   "cell_type": "code",
   "execution_count": null,
   "metadata": {},
   "outputs": [
    {
     "name": "stdout",
     "output_type": "stream",
     "text": [
      "Kernel version 6 successfully pushed.  Please check progress at https://www.kaggle.com/code/welshonionman/imc2024-repo\n"
     ]
    }
   ],
   "source": [
    "push_kernel(\n",
    "    \"welshonionman\",\n",
    "    \"/kaggle/notebook/imc2024-repo.ipynb\",\n",
    "    comp=\"image-matching-challenge-2024\",\n",
    "    random_suffix=False,\n",
    ")"
   ]
  },
  {
   "cell_type": "code",
   "execution_count": 2,
   "metadata": {},
   "outputs": [],
   "source": [
    "submission(\n",
    "    \"leap-atmospheric-physics-ai-climsim  \",\n",
    "    \"/kaggle/submission.csv\",\n",
    "    \"baseline\",\n",
    ")"
   ]
  },
  {
   "cell_type": "code",
   "execution_count": 3,
   "metadata": {},
   "outputs": [
    {
     "name": "stdout",
     "output_type": "stream",
     "text": [
      "Kernel version 1 successfully pushed.  Please check progress at https://www.kaggle.com/code/welshonionman/distance-dinov27604\n"
     ]
    }
   ],
   "source": [
    "datasets = []\n",
    "\n",
    "push_kernel(\n",
    "    \"welshonionman\",\n",
    "    \"/kaggle/working/notebook/eda/distance-dinov2.ipynb\",\n",
    "    datasets=datasets,\n",
    "    comp=[\"image-matching-challenge-2024\"],\n",
    ")"
   ]
  },
  {
   "cell_type": "code",
   "execution_count": null,
   "metadata": {},
   "outputs": [],
   "source": [
    "!jupyter nbconvert --to notebook --execute --inplace /kaggle/working/notebook/experiment/stacked_unet/model16/train.ipynb"
   ]
  },
  {
   "cell_type": "code",
   "execution_count": null,
   "metadata": {},
   "outputs": [],
   "source": []
  },
  {
   "cell_type": "code",
   "execution_count": null,
   "metadata": {},
   "outputs": [],
   "source": []
  }
 ],
 "metadata": {
  "kernelspec": {
   "display_name": "Python 3",
   "language": "python",
   "name": "python3"
  },
  "language_info": {
   "codemirror_mode": {
    "name": "ipython",
    "version": 3
   },
   "file_extension": ".py",
   "mimetype": "text/x-python",
   "name": "python",
   "nbconvert_exporter": "python",
   "pygments_lexer": "ipython3",
   "version": "3.10.14"
  },
  "orig_nbformat": 4,
  "vscode": {
   "interpreter": {
    "hash": "31f2aee4e71d21fbe5cf8b01ff0e069b9275f58929596ceb00d14d90e3e16cd6"
   }
  }
 },
 "nbformat": 4,
 "nbformat_minor": 2
}
