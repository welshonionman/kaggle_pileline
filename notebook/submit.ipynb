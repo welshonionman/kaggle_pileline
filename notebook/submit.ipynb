{
 "cells": [
  {
   "cell_type": "code",
   "execution_count": 1,
   "metadata": {},
   "outputs": [
    {
     "name": "stderr",
     "output_type": "stream",
     "text": [
      "INFO:albumentations.check_version:A new version of Albumentations is available: 1.4.12 (you have 1.4.11). Upgrade using: pip install --upgrade albumentations\n"
     ]
    }
   ],
   "source": [
    "from src.pipeline import get_infer_pipeline\n",
    "from pathlib import Path\n",
    "import albumentations as A\n",
    "from albumentations.pytorch import ToTensorV2\n",
    "\n",
    "__file__ = \"\""
   ]
  },
  {
   "cell_type": "code",
   "execution_count": 2,
   "metadata": {},
   "outputs": [],
   "source": [
    "class CFG:\n",
    "    wandb_mode = \"disabled\"\n",
    "    exp_name = Path(__file__).stem\n",
    "\n",
    "    seed = 42\n",
    "    epochs = 30\n",
    "    img_size = 384\n",
    "    n_fold = 6\n",
    "\n",
    "    pipeline = \"base\"\n",
    "    preprocess = \"base\"\n",
    "    dataset = \"base\"\n",
    "    model_name: str = \"base\"\n",
    "    encoder_name: str = \"tf_efficientnet_b0_ns\"\n",
    "\n",
    "    train_batch_size = 32\n",
    "    valid_batch_size = 64\n",
    "    learning_rate = 1e-4\n",
    "\n",
    "    lossfn = \"BCEWithLogitsLoss\"\n",
    "    sampling_factor = 20\n",
    "    loss_weight = 1\n",
    "    optimizer = \"AdamW\"\n",
    "    scheduler = \"CosineAnnealingLR\"\n",
    "\n",
    "    min_lr = 1e-7\n",
    "    weight_decay = 1e-6\n",
    "\n",
    "    train_transform = A.Compose(\n",
    "        [\n",
    "            A.Resize(img_size, img_size),\n",
    "            A.RandomRotate90(p=0.5),\n",
    "            A.Flip(p=0.5),\n",
    "            A.Downscale(p=0.25),\n",
    "            A.ShiftScaleRotate(\n",
    "                shift_limit=0.1, scale_limit=0.15, rotate_limit=60, p=0.5\n",
    "            ),\n",
    "            A.HueSaturationValue(\n",
    "                hue_shift_limit=0.2, sat_shift_limit=0.2, val_shift_limit=0.2, p=0.5\n",
    "            ),\n",
    "            A.RandomBrightnessContrast(\n",
    "                brightness_limit=(-0.1, 0.1), contrast_limit=(-0.1, 0.1), p=0.5\n",
    "            ),\n",
    "            A.Normalize(\n",
    "                mean=[0.485, 0.456, 0.406],\n",
    "                std=[0.229, 0.224, 0.225],\n",
    "                max_pixel_value=255.0,\n",
    "                p=1.0,\n",
    "            ),\n",
    "            ToTensorV2(),\n",
    "        ],\n",
    "        p=1.0,\n",
    "    )\n",
    "\n",
    "    valid_transform = A.Compose(\n",
    "        [\n",
    "            A.Resize(img_size, img_size),\n",
    "            A.Normalize(\n",
    "                mean=[0.485, 0.456, 0.406],\n",
    "                std=[0.229, 0.224, 0.225],\n",
    "                max_pixel_value=255.0,\n",
    "                p=1.0,\n",
    "            ),\n",
    "            ToTensorV2(),\n",
    "        ],\n",
    "        p=1.0,\n",
    "    )"
   ]
  },
  {
   "cell_type": "code",
   "execution_count": 3,
   "metadata": {},
   "outputs": [],
   "source": [
    "CFG.weight_path = \"/kaggle/weights/tmp_weight/tmp.pth\""
   ]
  },
  {
   "cell_type": "code",
   "execution_count": 4,
   "metadata": {},
   "outputs": [
    {
     "name": "stderr",
     "output_type": "stream",
     "text": [
      "/usr/local/lib/python3.10/dist-packages/timm/models/_factory.py:117: UserWarning: Mapping deprecated model name tf_efficientnet_b0_ns to current tf_efficientnet_b0.ns_jft_in1k.\n",
      "  model = create_fn(\n",
      "INFO:timm.models._builder:Loading pretrained weights from Hugging Face hub (timm/tf_efficientnet_b0.ns_jft_in1k)\n"
     ]
    },
    {
     "name": "stderr",
     "output_type": "stream",
     "text": [
      "INFO:timm.models._hub:[timm/tf_efficientnet_b0.ns_jft_in1k] Safe alternative available for 'pytorch_model.bin' (as 'model.safetensors'). Loading weights using safetensors.\n",
      "100%|██████████| 1/1 [00:00<00:00,  5.41it/s]\n"
     ]
    }
   ],
   "source": [
    "pipeline = get_infer_pipeline(CFG)\n",
    "pipeline(CFG)"
   ]
  },
  {
   "cell_type": "code",
   "execution_count": null,
   "metadata": {},
   "outputs": [],
   "source": []
  }
 ],
 "metadata": {
  "kernelspec": {
   "display_name": "Python 3",
   "language": "python",
   "name": "python3"
  },
  "language_info": {
   "codemirror_mode": {
    "name": "ipython",
    "version": 3
   },
   "file_extension": ".py",
   "mimetype": "text/x-python",
   "name": "python",
   "nbconvert_exporter": "python",
   "pygments_lexer": "ipython3",
   "version": "3.10.14"
  }
 },
 "nbformat": 4,
 "nbformat_minor": 2
}
